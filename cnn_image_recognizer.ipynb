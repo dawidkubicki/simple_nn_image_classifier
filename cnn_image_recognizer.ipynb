{
  "nbformat": 4,
  "nbformat_minor": 0,
  "metadata": {
    "colab": {
      "name": "cnn_image_recognizer.ipynb",
      "provenance": [],
      "collapsed_sections": [],
      "authorship_tag": "ABX9TyPXnMv8ERyVjQ3WQ9gzqw4+",
      "include_colab_link": true
    },
    "kernelspec": {
      "name": "python3",
      "display_name": "Python 3"
    },
    "accelerator": "TPU"
  },
  "cells": [
    {
      "cell_type": "markdown",
      "metadata": {
        "id": "view-in-github",
        "colab_type": "text"
      },
      "source": [
        "<a href=\"https://colab.research.google.com/github/dawidkubicki/simple_nn_image_classifier/blob/main/cnn_image_recognizer.ipynb\" target=\"_parent\"><img src=\"https://colab.research.google.com/assets/colab-badge.svg\" alt=\"Open In Colab\"/></a>"
      ]
    },
    {
      "cell_type": "markdown",
      "metadata": {
        "id": "o3mSX-j425zG"
      },
      "source": [
        "## Connect to GDrive"
      ]
    },
    {
      "cell_type": "code",
      "metadata": {
        "id": "sjSw9uRr2X-v"
      },
      "source": [
        "# from google.colab import drive\n",
        "# drive.mount('/content/gdrive')"
      ],
      "execution_count": 1,
      "outputs": []
    },
    {
      "cell_type": "markdown",
      "metadata": {
        "id": "-vq6Of_L3M3M"
      },
      "source": [
        "## Change root path"
      ]
    },
    {
      "cell_type": "code",
      "metadata": {
        "colab": {
          "base_uri": "https://localhost:8080/",
          "height": 351
        },
        "id": "FJQ9DfY45UJR",
        "outputId": "85623200-896a-4bec-ce95-8bc16734d103"
      },
      "source": [
        "import os\n",
        "\n",
        "root_dir = \"/content/gdrive/My Drive/Colab Notebooks/my_files_dp_az/cnn\"\n",
        "\n",
        "def create_and_set_working_directory(root_dir):\n",
        "  if os.path.isdir(root_dir) == True:\n",
        "    print(\"Path correcct 😊\")\n",
        "  else:\n",
        "    print(\"Incorrect path ☠️\")  \n",
        "    os.mkdir(root_dir)\n",
        "    print(root_dir + ' did not exist but was created.')\n",
        "  \n",
        "  # change the OS to use your project folder as the working directory\n",
        "  os.chdir(root_dir)\n",
        "\n",
        "  # create a test file to make sure it shows up in the right place\n",
        "  !touch 'WORKING_DIRECTORY_JUST_TO_TEST_FILE.txt'\n",
        "  print('\\nYour working directory was changed to ' + root_dir + \\\n",
        "        \"\\n\\nAn empty text file was created there. You can also run !pwd to confirm the current working directory.\" )\n",
        "\n",
        "create_and_set_working_directory(root_dir)"
      ],
      "execution_count": 2,
      "outputs": [
        {
          "output_type": "stream",
          "text": [
            "Incorrect path ☠️\n"
          ],
          "name": "stdout"
        },
        {
          "output_type": "error",
          "ename": "FileNotFoundError",
          "evalue": "ignored",
          "traceback": [
            "\u001b[0;31m---------------------------------------------------------------------------\u001b[0m",
            "\u001b[0;31mFileNotFoundError\u001b[0m                         Traceback (most recent call last)",
            "\u001b[0;32m<ipython-input-2-038323b31710>\u001b[0m in \u001b[0;36m<module>\u001b[0;34m()\u001b[0m\n\u001b[1;32m     18\u001b[0m   \u001b[0mprint\u001b[0m\u001b[0;34m(\u001b[0m\u001b[0;34m'\\nYour working directory was changed to '\u001b[0m \u001b[0;34m+\u001b[0m \u001b[0mroot_dir\u001b[0m \u001b[0;34m+\u001b[0m         \u001b[0;34m\"\\n\\nAn empty text file was created there. You can also run !pwd to confirm the current working directory.\"\u001b[0m \u001b[0;34m)\u001b[0m\u001b[0;34m\u001b[0m\u001b[0;34m\u001b[0m\u001b[0m\n\u001b[1;32m     19\u001b[0m \u001b[0;34m\u001b[0m\u001b[0m\n\u001b[0;32m---> 20\u001b[0;31m \u001b[0mcreate_and_set_working_directory\u001b[0m\u001b[0;34m(\u001b[0m\u001b[0mroot_dir\u001b[0m\u001b[0;34m)\u001b[0m\u001b[0;34m\u001b[0m\u001b[0;34m\u001b[0m\u001b[0m\n\u001b[0m",
            "\u001b[0;32m<ipython-input-2-038323b31710>\u001b[0m in \u001b[0;36mcreate_and_set_working_directory\u001b[0;34m(root_dir)\u001b[0m\n\u001b[1;32m      8\u001b[0m   \u001b[0;32melse\u001b[0m\u001b[0;34m:\u001b[0m\u001b[0;34m\u001b[0m\u001b[0;34m\u001b[0m\u001b[0m\n\u001b[1;32m      9\u001b[0m     \u001b[0mprint\u001b[0m\u001b[0;34m(\u001b[0m\u001b[0;34m\"Incorrect path ☠️\"\u001b[0m\u001b[0;34m)\u001b[0m\u001b[0;34m\u001b[0m\u001b[0;34m\u001b[0m\u001b[0m\n\u001b[0;32m---> 10\u001b[0;31m     \u001b[0mos\u001b[0m\u001b[0;34m.\u001b[0m\u001b[0mmkdir\u001b[0m\u001b[0;34m(\u001b[0m\u001b[0mroot_dir\u001b[0m\u001b[0;34m)\u001b[0m\u001b[0;34m\u001b[0m\u001b[0;34m\u001b[0m\u001b[0m\n\u001b[0m\u001b[1;32m     11\u001b[0m     \u001b[0mprint\u001b[0m\u001b[0;34m(\u001b[0m\u001b[0mroot_dir\u001b[0m \u001b[0;34m+\u001b[0m \u001b[0;34m' did not exist but was created.'\u001b[0m\u001b[0;34m)\u001b[0m\u001b[0;34m\u001b[0m\u001b[0;34m\u001b[0m\u001b[0m\n\u001b[1;32m     12\u001b[0m \u001b[0;34m\u001b[0m\u001b[0m\n",
            "\u001b[0;31mFileNotFoundError\u001b[0m: [Errno 2] No such file or directory: '/content/gdrive/My Drive/Colab Notebooks/my_files_dp_az/cnn'"
          ]
        }
      ]
    },
    {
      "cell_type": "markdown",
      "metadata": {
        "id": "u7GTIUI6Ar1I"
      },
      "source": [
        "## Preprocess data\n"
      ]
    },
    {
      "cell_type": "markdown",
      "metadata": {
        "id": "2N9SobxNAul-"
      },
      "source": [
        "### Importing the libraries"
      ]
    },
    {
      "cell_type": "code",
      "metadata": {
        "id": "frEXF7v4Aznr"
      },
      "source": [
        "import tensorflow as tf\n",
        "from keras.preprocessing.image import ImageDataGenerator\n",
        "\n",
        "tf.__version__"
      ],
      "execution_count": null,
      "outputs": []
    },
    {
      "cell_type": "markdown",
      "metadata": {
        "id": "d1LYD_jdBjCL"
      },
      "source": [
        "### Preprocessing the training set"
      ]
    },
    {
      "cell_type": "code",
      "metadata": {
        "id": "3x6UrmvcBqS1"
      },
      "source": [
        "# let's do augmenting dataset to avoid overfitting\n",
        "\n",
        "train_datagen = ImageDataGenerator(\n",
        "    rescale=1./255, #feature scalling\n",
        "    shear_range=0.2,\n",
        "    zoom_range=0.2,\n",
        "    horizontal_flip=True\n",
        ")\n",
        "\n",
        "training_set = train_datagen.flow_from_directory(\n",
        "        'dataset/training_set',\n",
        "        target_size=(64, 64),\n",
        "        batch_size=32,\n",
        "        class_mode='binary')"
      ],
      "execution_count": null,
      "outputs": []
    },
    {
      "cell_type": "markdown",
      "metadata": {
        "id": "QtwWGMMcBmoQ"
      },
      "source": [
        "### Preprocessing the test set"
      ]
    },
    {
      "cell_type": "code",
      "metadata": {
        "id": "jAUnSLerFmyP"
      },
      "source": [
        "test_datagen = ImageDataGenerator(rescale=1./255)\n",
        "\n",
        "test_set = test_datagen.flow_from_directory(\n",
        "        'dataset/test_set',\n",
        "        target_size=(64, 64),\n",
        "        batch_size=32,\n",
        "        class_mode='binary')"
      ],
      "execution_count": null,
      "outputs": []
    },
    {
      "cell_type": "markdown",
      "metadata": {
        "id": "xjziBLyxGTJi"
      },
      "source": [
        "## Building a CNN"
      ]
    },
    {
      "cell_type": "code",
      "metadata": {
        "id": "sE7fS2DjGXE7"
      },
      "source": [
        "cnn = tf.keras.models.Sequential()"
      ],
      "execution_count": null,
      "outputs": []
    },
    {
      "cell_type": "markdown",
      "metadata": {
        "id": "qmun4NFqGvoE"
      },
      "source": [
        "### Convolution"
      ]
    },
    {
      "cell_type": "code",
      "metadata": {
        "id": "bWxw1hFsG0Yl"
      },
      "source": [
        "cnn.add(tf.keras.layers.Conv2D(\n",
        "    filters=32,\n",
        "    kernel_size=3,\n",
        "    activation='relu',\n",
        "    input_shape=[64,64, 3]\n",
        "))"
      ],
      "execution_count": null,
      "outputs": []
    },
    {
      "cell_type": "markdown",
      "metadata": {
        "id": "TFIHikg0GyJ3"
      },
      "source": [
        "### Pooling"
      ]
    },
    {
      "cell_type": "code",
      "metadata": {
        "id": "wWR5IPeUIbUi"
      },
      "source": [
        "cnn.add(tf.keras.layers.MaxPool2D(\n",
        "    pool_size=2,\n",
        "    strides=2\n",
        "))"
      ],
      "execution_count": null,
      "outputs": []
    },
    {
      "cell_type": "markdown",
      "metadata": {
        "id": "RNRX1i3nJpAr"
      },
      "source": [
        "### Adding the second convolution layer"
      ]
    },
    {
      "cell_type": "code",
      "metadata": {
        "id": "fL_03ll7JmWr"
      },
      "source": [
        "cnn.add(tf.keras.layers.Conv2D(\n",
        "    filters=32,\n",
        "    kernel_size=3,\n",
        "    activation='relu'\n",
        "))\n",
        "\n",
        "cnn.add(tf.keras.layers.MaxPool2D(\n",
        "    pool_size=2,\n",
        "    strides=2\n",
        "))"
      ],
      "execution_count": null,
      "outputs": []
    },
    {
      "cell_type": "markdown",
      "metadata": {
        "id": "w4pw6-RwJ6dD"
      },
      "source": [
        "### Flattening"
      ]
    },
    {
      "cell_type": "code",
      "metadata": {
        "id": "7jjTVFaPJ8UE"
      },
      "source": [
        "cnn.add(tf.keras.layers.Flatten())"
      ],
      "execution_count": null,
      "outputs": []
    },
    {
      "cell_type": "markdown",
      "metadata": {
        "id": "JCbxvZcrKdGo"
      },
      "source": [
        "### Full connection"
      ]
    },
    {
      "cell_type": "code",
      "metadata": {
        "id": "nZ5XeTpGKevF"
      },
      "source": [
        "cnn.add(tf.keras.layers.Dense(\n",
        "    units=128,\n",
        "    activation='relu'\n",
        "))"
      ],
      "execution_count": null,
      "outputs": []
    },
    {
      "cell_type": "markdown",
      "metadata": {
        "id": "4yLA0HAHK59F"
      },
      "source": [
        "### Output layer"
      ]
    },
    {
      "cell_type": "code",
      "metadata": {
        "id": "Tv46Jx1yK5rR"
      },
      "source": [
        "cnn.add(tf.keras.layers.Dense(\n",
        "    units=1,\n",
        "    activation='sigmoid'\n",
        "))"
      ],
      "execution_count": null,
      "outputs": []
    },
    {
      "cell_type": "markdown",
      "metadata": {
        "id": "ISkTf-WxLcbP"
      },
      "source": [
        "## Training the CNN"
      ]
    },
    {
      "cell_type": "markdown",
      "metadata": {
        "id": "tcZOS2dNLh3O"
      },
      "source": [
        "### Compiling the CNN\n"
      ]
    },
    {
      "cell_type": "code",
      "metadata": {
        "id": "dBMBNFHiLkJq"
      },
      "source": [
        "cnn.compile(optimizer='adam', loss='binary_crossentropy', metrics=['accuracy'])"
      ],
      "execution_count": null,
      "outputs": []
    },
    {
      "cell_type": "markdown",
      "metadata": {
        "id": "JDCi_wITMKGB"
      },
      "source": [
        "### Training the CNN and evaluating it in the test set"
      ]
    },
    {
      "cell_type": "code",
      "metadata": {
        "id": "tYqb5WrZMQHN"
      },
      "source": [
        "cnn.fit(x = training_set, validation_data = test_set, epochs = 3)"
      ],
      "execution_count": null,
      "outputs": []
    },
    {
      "cell_type": "markdown",
      "metadata": {
        "id": "Cb4HWECINCAx"
      },
      "source": [
        "## Make a single prediction"
      ]
    },
    {
      "cell_type": "code",
      "metadata": {
        "id": "GhB7rPNcNEot"
      },
      "source": [
        "import numpy as np\n",
        "from keras.preprocessing import image\n",
        "\n",
        "# formating image\n",
        "test_image = image.load_img('dataset/single_prediction/cat_or_dog_1.jpg', target_size = (64, 64))\n",
        "test_image = image.img_to_array(test_image)\n",
        "test_image = np.expand_dims(test_image, axis=0)\n",
        "\n",
        "result = cnn.predict(test_image)\n",
        "\n",
        "training_set.class_indices\n",
        "if result[0][0] == 1:\n",
        "  prediction = 'Dog'\n",
        "else\n",
        "  prediction = 'Cat'\n",
        " "
      ],
      "execution_count": null,
      "outputs": []
    },
    {
      "cell_type": "code",
      "metadata": {
        "id": "AAyAIFr5PtIZ"
      },
      "source": [
        "print(prediction)"
      ],
      "execution_count": null,
      "outputs": []
    }
  ]
}